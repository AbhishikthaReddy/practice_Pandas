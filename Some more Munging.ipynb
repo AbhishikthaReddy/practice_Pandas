{
 "metadata": {
  "name": "",
  "signature": "sha256:6ba137fccdcce6f50eae2fbcc96f82a4fb1a421f135bc484d339b04bb3fd5d35"
 },
 "nbformat": 3,
 "nbformat_minor": 0,
 "worksheets": [
  {
   "cells": [
    {
     "cell_type": "markdown",
     "metadata": {},
     "source": [
      "Try and clean up a fairly simple dataset from FB. \n",
      "\n",
      "###Facebook Global Government Requests Report  \n",
      "I've always been curious about freedom of expression, especially with social media. In this first set of visualizations, we'll work with Facebook's global government requests report. This open dataset available through [visualizing.org](http://visualizing.org/) is a collection of requests from various countries to FB concerning user data. While it doesn't tell us what exactly the nature of the requests were, it gives some good statistics on who's requesting how much. To quote the website:  \n",
      "\n",
      ">In Facebook's Global Government Requests Report, Facebook shares details on requests from governments concerning user data. This initial report covers the period of January 1-June 30, 2013. The report details:\n",
      "\n",
      ">- Which countries requested information from Facebook about our users  \n",
      "- The number of requests received from each of those countries  \n",
      "- The number of users/user accounts specified in those requests  \n",
      "- The percentage of these requests in which we were required by law to disclose at least some data\n",
      "\n",
      ">For more information, visit https://www.facebook.com/about/government_requests\n",
      "\n",
      "###matplotlib  \n",
      "We'll start exploring the data with matplotlib, the highly versatile but not-so-pretty out-of-the-box graphics package for Python. I am a huge fan of Python but never quite liked how old-school matplotlib was by default, unlike R's ggplot or for that matter R's default graphics package (not sure what they call it) looks better too. But what I quickly learnt was that matplotlib is super-customizable. If you're willing to devote time, you can really turn it into something completely different.  \n",
      "\n",
      "Let's start with the defaults first."
     ]
    },
    {
     "cell_type": "code",
     "collapsed": false,
     "input": [
      "#Import required Python modules\n",
      "from matplotlib import pyplot as plt\n",
      "from matplotlib import colors\n",
      "from pylab import cm\n",
      "import numpy as np\n",
      "import pandas as pd\n",
      "\n",
      "# make graphics inline\n",
      "%matplotlib inline"
     ],
     "language": "python",
     "metadata": {},
     "outputs": [],
     "prompt_number": 5
    },
    {
     "cell_type": "markdown",
     "metadata": {},
     "source": [
      "Let's read in the csv dataset with Pandas."
     ]
    },
    {
     "cell_type": "code",
     "collapsed": false,
     "input": [
      "#Read in the dataset from visualizing.org\n",
      "fb=pd.read_csv('https://www.facebook.com/about/government_requests/download.php', \n",
      "               names=('Country', 'Total_Requests_req', 'Total_Users_req', 'Pct_data_provided'),\n",
      "               skiprows=1)"
     ],
     "language": "python",
     "metadata": {},
     "outputs": [],
     "prompt_number": 236
    },
    {
     "cell_type": "code",
     "collapsed": false,
     "input": [
      "#Let's take a peek at the data\n",
      "fb.head(5)"
     ],
     "language": "python",
     "metadata": {},
     "outputs": [
      {
       "html": [
        "<div style=\"max-height:1000px;max-width:1500px;overflow:auto;\">\n",
        "<table border=\"1\" class=\"dataframe\">\n",
        "  <thead>\n",
        "    <tr style=\"text-align: right;\">\n",
        "      <th></th>\n",
        "      <th>Country</th>\n",
        "      <th>Total_Requests_req</th>\n",
        "      <th>Total_Users_req</th>\n",
        "      <th>Pct_data_provided</th>\n",
        "    </tr>\n",
        "  </thead>\n",
        "  <tbody>\n",
        "    <tr>\n",
        "      <th>0</th>\n",
        "      <td>  United States</td>\n",
        "      <td> 11000 - 12000</td>\n",
        "      <td> 20000 - 21000</td>\n",
        "      <td> 79</td>\n",
        "    </tr>\n",
        "    <tr>\n",
        "      <th>1</th>\n",
        "      <td> United Kingdom</td>\n",
        "      <td>         1,975</td>\n",
        "      <td>         2,337</td>\n",
        "      <td> 68</td>\n",
        "    </tr>\n",
        "    <tr>\n",
        "      <th>2</th>\n",
        "      <td>         Uganda</td>\n",
        "      <td>             1</td>\n",
        "      <td>             1</td>\n",
        "      <td>  0</td>\n",
        "    </tr>\n",
        "    <tr>\n",
        "      <th>3</th>\n",
        "      <td>         Turkey</td>\n",
        "      <td>            96</td>\n",
        "      <td>           170</td>\n",
        "      <td> 47</td>\n",
        "    </tr>\n",
        "    <tr>\n",
        "      <th>4</th>\n",
        "      <td>       Thailand</td>\n",
        "      <td>             2</td>\n",
        "      <td>             5</td>\n",
        "      <td>  0</td>\n",
        "    </tr>\n",
        "  </tbody>\n",
        "</table>\n",
        "</div>"
       ],
       "metadata": {},
       "output_type": "pyout",
       "prompt_number": 237,
       "text": [
        "          Country Total_Requests_req Total_Users_req  Pct_data_provided\n",
        "0   United States      11000 - 12000   20000 - 21000                 79\n",
        "1  United Kingdom              1,975           2,337                 68\n",
        "2          Uganda                  1               1                  0\n",
        "3          Turkey                 96             170                 47\n",
        "4        Thailand                  2               5                  0"
       ]
      }
     ],
     "prompt_number": 237
    },
    {
     "cell_type": "markdown",
     "metadata": {},
     "source": [
      "OK so we basically don't have much wiggle room for visualizations here but one thing that's clear already is that US figures high on the list. We also see that the data is sometimes a range for number of requests and users. Let's try and capture this and split it into multiple columns."
     ]
    },
    {
     "cell_type": "code",
     "collapsed": false,
     "input": [
      "minmax=pd.concat([pd.DataFrame(fb.Total_Requests_req.str.split('-').tolist(), columns=['minrq','maxrq']),\n",
      "                  pd.DataFrame(fb.Total_Users_req.str.split('-').tolist(), columns=['minuser','maxuser'])], \n",
      "                 axis=1)\n",
      "minmax.describe()"
     ],
     "language": "python",
     "metadata": {},
     "outputs": [
      {
       "html": [
        "<div style=\"max-height:1000px;max-width:1500px;overflow:auto;\">\n",
        "<table border=\"1\" class=\"dataframe\">\n",
        "  <thead>\n",
        "    <tr style=\"text-align: right;\">\n",
        "      <th></th>\n",
        "      <th>minrq</th>\n",
        "      <th>maxrq</th>\n",
        "      <th>minuser</th>\n",
        "      <th>maxuser</th>\n",
        "    </tr>\n",
        "  </thead>\n",
        "  <tbody>\n",
        "    <tr>\n",
        "      <th>count</th>\n",
        "      <td> 71</td>\n",
        "      <td>      1</td>\n",
        "      <td> 71</td>\n",
        "      <td>      1</td>\n",
        "    </tr>\n",
        "    <tr>\n",
        "      <th>unique</th>\n",
        "      <td> 43</td>\n",
        "      <td>      1</td>\n",
        "      <td> 45</td>\n",
        "      <td>      1</td>\n",
        "    </tr>\n",
        "    <tr>\n",
        "      <th>top</th>\n",
        "      <td>  1</td>\n",
        "      <td>  12000</td>\n",
        "      <td>  1</td>\n",
        "      <td>  21000</td>\n",
        "    </tr>\n",
        "    <tr>\n",
        "      <th>freq</th>\n",
        "      <td>  9</td>\n",
        "      <td>      1</td>\n",
        "      <td>  8</td>\n",
        "      <td>      1</td>\n",
        "    </tr>\n",
        "  </tbody>\n",
        "</table>\n",
        "</div>"
       ],
       "metadata": {},
       "output_type": "pyout",
       "prompt_number": 238,
       "text": [
        "       minrq   maxrq minuser maxuser\n",
        "count     71       1      71       1\n",
        "unique    43       1      45       1\n",
        "top        1   12000       1   21000\n",
        "freq       9       1       8       1"
       ]
      }
     ],
     "prompt_number": 238
    },
    {
     "cell_type": "markdown",
     "metadata": {},
     "source": [
      "So we see that only the United States values seem to be a range. Rest seem to be okay. Let's just correct US stats to be the mean value. Note we're using the fact the we know United States is the first row.\n",
      "\n",
      "Also before we update the dataframe, let's clean up any thousands seperators in strings. Once we update the values, we will update types to int."
     ]
    },
    {
     "cell_type": "code",
     "collapsed": false,
     "input": [
      "fb=fb.apply(lambda x: x.str.replace(',','') if x.dtype!='int' else x)"
     ],
     "language": "python",
     "metadata": {},
     "outputs": [],
     "prompt_number": 243
    },
    {
     "cell_type": "code",
     "collapsed": false,
     "input": [
      "fb.loc[fb.Country=='United States',('Total_Requests_req', 'Total_Users_req')] = [(int(minmax.ix[0].minrq.strip()) + \n",
      "                                                                                  int(minmax.ix[0].maxrq.strip())) / 2, \n",
      "                                                                                 (int(minmax.ix[0].minuser.strip()) + \n",
      "                                                                                  int(minmax.ix[0].maxuser.strip())) / 2]"
     ],
     "language": "python",
     "metadata": {},
     "outputs": [],
     "prompt_number": 244
    },
    {
     "cell_type": "code",
     "collapsed": false,
     "input": [
      "fb[['Total_Requests_req','Total_Users_req','Pct_data_provided']] = \\\n",
      "fb[['Total_Requests_req','Total_Users_req','Pct_data_provided']].astype(int)"
     ],
     "language": "python",
     "metadata": {},
     "outputs": [],
     "prompt_number": 248
    },
    {
     "cell_type": "code",
     "collapsed": false,
     "input": [
      "fb.head(5)"
     ],
     "language": "python",
     "metadata": {},
     "outputs": [
      {
       "html": [
        "<div style=\"max-height:1000px;max-width:1500px;overflow:auto;\">\n",
        "<table border=\"1\" class=\"dataframe\">\n",
        "  <thead>\n",
        "    <tr style=\"text-align: right;\">\n",
        "      <th></th>\n",
        "      <th>Country</th>\n",
        "      <th>Total_Requests_req</th>\n",
        "      <th>Total_Users_req</th>\n",
        "      <th>Pct_data_provided</th>\n",
        "    </tr>\n",
        "  </thead>\n",
        "  <tbody>\n",
        "    <tr>\n",
        "      <th>0</th>\n",
        "      <td>  United States</td>\n",
        "      <td> 11500</td>\n",
        "      <td> 20500</td>\n",
        "      <td> 79</td>\n",
        "    </tr>\n",
        "    <tr>\n",
        "      <th>1</th>\n",
        "      <td> United Kingdom</td>\n",
        "      <td>  1975</td>\n",
        "      <td>  2337</td>\n",
        "      <td> 68</td>\n",
        "    </tr>\n",
        "    <tr>\n",
        "      <th>2</th>\n",
        "      <td>         Uganda</td>\n",
        "      <td>     1</td>\n",
        "      <td>     1</td>\n",
        "      <td>  0</td>\n",
        "    </tr>\n",
        "    <tr>\n",
        "      <th>3</th>\n",
        "      <td>         Turkey</td>\n",
        "      <td>    96</td>\n",
        "      <td>   170</td>\n",
        "      <td> 47</td>\n",
        "    </tr>\n",
        "    <tr>\n",
        "      <th>4</th>\n",
        "      <td>       Thailand</td>\n",
        "      <td>     2</td>\n",
        "      <td>     5</td>\n",
        "      <td>  0</td>\n",
        "    </tr>\n",
        "  </tbody>\n",
        "</table>\n",
        "</div>"
       ],
       "metadata": {},
       "output_type": "pyout",
       "prompt_number": 249,
       "text": [
        "          Country  Total_Requests_req  Total_Users_req  Pct_data_provided\n",
        "0   United States               11500            20500                 79\n",
        "1  United Kingdom                1975             2337                 68\n",
        "2          Uganda                   1                1                  0\n",
        "3          Turkey                  96              170                 47\n",
        "4        Thailand                   2                5                  0"
       ]
      }
     ],
     "prompt_number": 249
    }
   ],
   "metadata": {}
  }
 ]
}